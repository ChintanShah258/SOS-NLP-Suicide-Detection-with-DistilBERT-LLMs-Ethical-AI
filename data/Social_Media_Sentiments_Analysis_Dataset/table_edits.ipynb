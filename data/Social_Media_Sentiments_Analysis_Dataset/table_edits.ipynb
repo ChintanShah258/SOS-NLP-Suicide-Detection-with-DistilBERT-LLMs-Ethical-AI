{
 "cells": [
  {
   "cell_type": "markdown",
   "metadata": {},
   "source": [
    "# Table Edits"
   ]
  },
  {
   "cell_type": "markdown",
   "metadata": {},
   "source": [
    "This notebook aims to modify the structure and some data from the table such that it is more insightful in predictions."
   ]
  },
  {
   "cell_type": "code",
   "execution_count": 1,
   "metadata": {},
   "outputs": [],
   "source": [
    "import pandas as pd"
   ]
  },
  {
   "cell_type": "markdown",
   "metadata": {},
   "source": [
    "## Load the Data"
   ]
  },
  {
   "cell_type": "code",
   "execution_count": 2,
   "metadata": {},
   "outputs": [],
   "source": [
    "df_not_annotated_full = pd.read_csv('sentimentdataset_RAW.csv')\n",
    "df_multi_class_full = pd.read_csv('sentimentdataset_annotated.csv')\n",
    "df_binary_class_full = pd.read_csv('sentimentdataset_annotated_binary.csv')\n",
    "df_multi_class_sensitive_attributes = pd.read_csv('sentimentdataset_multi_class_sensitive_attributes.csv')\n",
    "df_binary_class_sensitive_attributes = pd.read_csv('sentimentdataset_binary_class_sensitive_attributes.csv')\n",
    "df_multi_class_non_sensitive_attributes = pd.read_csv('sentimentdataset_multi_class_non_sensitive_attributes.csv')\n",
    "df_binary_class_non_sensitive_attributes = pd.read_csv('sentimentdataset_binary_class_non_sensitive_attributes.csv')"
   ]
  },
  {
   "cell_type": "code",
   "execution_count": 3,
   "metadata": {},
   "outputs": [
    {
     "name": "stdout",
     "output_type": "stream",
     "text": [
      "The binary class full dataframe has 16 columns.\n",
      "The binary class non-sensitive attributes dataframe has 13 columns.\n",
      "The binary class sensitive attributes dataframe has 3 columns.\n",
      "The multi-class full dataframe has 16 columns.\n",
      "The multi-class non-sensitive attributes dataframe has 13 columns.\n",
      "The multi-class sensitive attributes dataframe has 3 columns.\n",
      "The not annotated full dataframe has 15 columns.\n"
     ]
    }
   ],
   "source": [
    "print(f\"The binary class full dataframe has {len(df_binary_class_full.columns)} columns.\")\n",
    "print(f\"The binary class non-sensitive attributes dataframe has {len(df_binary_class_non_sensitive_attributes.columns)} columns.\")\n",
    "print(f\"The binary class sensitive attributes dataframe has {len(df_binary_class_sensitive_attributes.columns)} columns.\")\n",
    "print(f\"The multi-class full dataframe has {len(df_multi_class_full.columns)} columns.\")\n",
    "print(f\"The multi-class non-sensitive attributes dataframe has {len(df_multi_class_non_sensitive_attributes.columns)} columns.\")\n",
    "print(f\"The multi-class sensitive attributes dataframe has {len(df_multi_class_sensitive_attributes.columns)} columns.\")\n",
    "print(f\"The not annotated full dataframe has {len(df_not_annotated_full.columns)} columns.\")"
   ]
  },
  {
   "cell_type": "code",
   "execution_count": 5,
   "metadata": {},
   "outputs": [],
   "source": [
    "sensitive_attributes = [\n",
    "    \"User\",\n",
    "    \"Platform\",\n",
    "    \"Country\"\n",
    "]"
   ]
  },
  {
   "cell_type": "markdown",
   "metadata": {},
   "source": [
    "## Remove Meaningless Columns"
   ]
  },
  {
   "cell_type": "code",
   "execution_count": 11,
   "metadata": {},
   "outputs": [],
   "source": [
    "def remove_single_value_columns(df: pd.DataFrame, includeList: list = []) -> int:\n",
    "    dropped_count = 0\n",
    "    for column in df.columns:\n",
    "        uniqueValues = df[column].unique()\n",
    "        if len(uniqueValues) <= 1 and column not in includeList:\n",
    "            # Remove Useless Columns\n",
    "            df.drop(column, axis=1, inplace=True)\n",
    "            dropped_count += 1\n",
    "    return dropped_count"
   ]
  },
  {
   "cell_type": "code",
   "execution_count": 12,
   "metadata": {},
   "outputs": [
    {
     "name": "stdout",
     "output_type": "stream",
     "text": [
      "Dropped 0 columns from df_not_annotated_full\n",
      "Dropped 0 columns from df_multi_class_full\n",
      "Dropped 0 columns from df_binary_class_full\n",
      "Dropped 0 columns from df_multi_class_sensitive_attributes\n",
      "Dropped 0 columns from df_binary_class_sensitive_attributes\n",
      "Dropped 0 columns from df_multi_class_non_sensitive_attributes\n",
      "Dropped 0 columns from df_binary_class_non_sensitive_attributes\n"
     ]
    }
   ],
   "source": [
    "# Apply the function to all dataframes and print the dropped counts\n",
    "dropped_count_not_annotated_full = remove_single_value_columns(df_not_annotated_full, sensitive_attributes)\n",
    "print(f\"Dropped {dropped_count_not_annotated_full} columns from df_not_annotated_full\")\n",
    "\n",
    "dropped_count_multi_class_full = remove_single_value_columns(df_multi_class_full, sensitive_attributes)\n",
    "print(f\"Dropped {dropped_count_multi_class_full} columns from df_multi_class_full\")\n",
    "\n",
    "dropped_count_binary_class_full = remove_single_value_columns(df_binary_class_full, sensitive_attributes)\n",
    "print(f\"Dropped {dropped_count_binary_class_full} columns from df_binary_class_full\")\n",
    "\n",
    "dropped_count_multi_class_sensitive_attributes = remove_single_value_columns(df_multi_class_sensitive_attributes, sensitive_attributes)\n",
    "print(f\"Dropped {dropped_count_multi_class_sensitive_attributes} columns from df_multi_class_sensitive_attributes\")\n",
    "\n",
    "dropped_count_binary_class_sensitive_attributes = remove_single_value_columns(df_binary_class_sensitive_attributes, sensitive_attributes)\n",
    "print(f\"Dropped {dropped_count_binary_class_sensitive_attributes} columns from df_binary_class_sensitive_attributes\")\n",
    "\n",
    "dropped_count_multi_class_non_sensitive_attributes = remove_single_value_columns(df_multi_class_non_sensitive_attributes, sensitive_attributes)\n",
    "print(f\"Dropped {dropped_count_multi_class_non_sensitive_attributes} columns from df_multi_class_non_sensitive_attributes\")\n",
    "\n",
    "dropped_count_binary_class_non_sensitive_attributes = remove_single_value_columns(df_binary_class_non_sensitive_attributes, sensitive_attributes)\n",
    "print(f\"Dropped {dropped_count_binary_class_non_sensitive_attributes} columns from df_binary_class_non_sensitive_attributes\")"
   ]
  },
  {
   "cell_type": "markdown",
   "metadata": {},
   "source": [
    "Conclusion: All columns are important in this dataset."
   ]
  },
  {
   "cell_type": "markdown",
   "metadata": {},
   "source": [
    "## Replace NaN Values"
   ]
  },
  {
   "cell_type": "code",
   "execution_count": 13,
   "metadata": {},
   "outputs": [],
   "source": [
    "def replace_nan_values(df: pd.DataFrame) -> pd.DataFrame:\n",
    "    for column in df.columns:\n",
    "        if df[column].dtype == 'object':\n",
    "            # Replace NaN values with empty string for categorical columns\n",
    "            df[column].fillna('', inplace=True)\n",
    "        else:\n",
    "            # Replace NaN values with 0 for numerical columns\n",
    "            df[column].fillna(0, inplace=True)\n",
    "    print(\"NaN values replaced\")\n",
    "    return df"
   ]
  },
  {
   "cell_type": "code",
   "execution_count": null,
   "metadata": {},
   "outputs": [],
   "source": [
    "df_binary_class_full = replace_nan_values(df_binary_class_full)\n",
    "df_binary_class_non_sensitive_attributes = replace_nan_values(df_binary_class_non_sensitive_attributes)\n",
    "df_binary_class_sensitive_attributes = replace_nan_values(df_binary_class_sensitive_attributes)\n",
    "df_multi_class_full = replace_nan_values(df_multi_class_full)\n",
    "df_multi_class_non_sensitive_attributes = replace_nan_values(df_multi_class_non_sensitive_attributes)\n",
    "df_multi_class_sensitive_attributes = replace_nan_values(df_multi_class_sensitive_attributes)\n",
    "df_not_annotated_full = replace_nan_values(df_not_annotated_full)"
   ]
  },
  {
   "cell_type": "code",
   "execution_count": 15,
   "metadata": {},
   "outputs": [
    {
     "name": "stdout",
     "output_type": "stream",
     "text": [
      "Dataframes saved to CSV\n"
     ]
    }
   ],
   "source": [
    "# Save to CSV \n",
    "df_binary_class_full.to_csv('sentimentdataset_annotated_binary.csv', index=False)\n",
    "df_binary_class_non_sensitive_attributes.to_csv('sentimentdataset_binary_class_non_sensitive_attributes.csv', index=False)\n",
    "df_binary_class_sensitive_attributes.to_csv('sentimentdataset_binary_class_sensitive_attributes.csv', index=False)\n",
    "df_multi_class_full.to_csv('sentimentdataset_annotated.csv', index=False)\n",
    "df_multi_class_non_sensitive_attributes.to_csv('sentimentdataset_multi_class_non_sensitive_attributes.csv', index=False)\n",
    "df_multi_class_sensitive_attributes.to_csv('sentimentdataset_multi_class_sensitive_attributes.csv', index=False)\n",
    "df_not_annotated_full.to_csv('sentimentdataset.csv', index=False)\n",
    "print(\"Dataframes saved to CSV\")"
   ]
  }
 ],
 "metadata": {
  "kernelspec": {
   "display_name": "project-venv",
   "language": "python",
   "name": "python3"
  },
  "language_info": {
   "codemirror_mode": {
    "name": "ipython",
    "version": 3
   },
   "file_extension": ".py",
   "mimetype": "text/x-python",
   "name": "python",
   "nbconvert_exporter": "python",
   "pygments_lexer": "ipython3",
   "version": "3.10.7"
  }
 },
 "nbformat": 4,
 "nbformat_minor": 2
}
